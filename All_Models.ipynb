{
  "nbformat": 4,
  "nbformat_minor": 0,
  "metadata": {
    "colab": {
      "provenance": [],
      "authorship_tag": "ABX9TyN/PrZl1vxde5cSDDiL1qOU",
      "include_colab_link": true
    },
    "kernelspec": {
      "name": "python3",
      "display_name": "Python 3"
    },
    "language_info": {
      "name": "python"
    }
  },
  "cells": [
    {
      "cell_type": "markdown",
      "metadata": {
        "id": "view-in-github",
        "colab_type": "text"
      },
      "source": [
        "<a href=\"https://colab.research.google.com/github/SaddamRafiq/Crypto-Thesis/blob/main/All_Models.ipynb\" target=\"_parent\"><img src=\"https://colab.research.google.com/assets/colab-badge.svg\" alt=\"Open In Colab\"/></a>"
      ]
    },
    {
      "cell_type": "code",
      "source": [
        "# Import Required Libraries\n",
        "import numpy as np\n",
        "import pandas as pd\n",
        "from statsmodels.tsa.ar_model import AutoReg\n",
        "from sklearn.metrics import mean_squared_error, r2_score, mean_absolute_error\n",
        "from math import sqrt\n",
        "\n",
        "# Fetch Data\n",
        "data = yf.download('BTC-USD', start='2020-01-01', end='2023-01-01')\n",
        "data = data[['Close']].dropna()\n",
        "train_size = int(len(data) * 0.8)\n",
        "train, test = data[:train_size], data[train_size:]\n",
        "\n",
        "# Train AR Model\n",
        "ar_model = AutoReg(train['Close'], lags=5).fit()\n",
        "ar_predictions = ar_model.predict(start=len(train), end=len(train) + len(test) - 1, dynamic=False)\n",
        "\n",
        "# Evaluate AR Model\n",
        "def evaluate_metrics(true, predicted):\n",
        "    rmse = sqrt(mean_squared_error(true, predicted))\n",
        "    r2 = r2_score(true, predicted)\n",
        "    mae = mean_absolute_error(true, predicted)\n",
        "    mse = mean_squared_error(true, predicted)\n",
        "    return {\"RMSE\": rmse, \"R2\": r2, \"MAE\": mae, \"MSE\": mse}\n",
        "\n",
        "ar_metrics = evaluate_metrics(test['Close'], ar_predictions)\n",
        "print(\"AR Model Metrics:\", ar_metrics)\n"
      ],
      "metadata": {
        "colab": {
          "base_uri": "https://localhost:8080/"
        },
        "id": "F4mH2p2xIQCe",
        "outputId": "c7129b25-c22c-45c5-9621-725234380d11"
      },
      "execution_count": null,
      "outputs": [
        {
          "output_type": "stream",
          "name": "stderr",
          "text": [
            "\r[*********************100%***********************]  1 of 1 completed"
          ]
        },
        {
          "output_type": "stream",
          "name": "stdout",
          "text": [
            "AR Model Metrics: {'RMSE': 12517.16103519283, 'R2': -11.80989609028057, 'MAE': 11701.177346351962, 'MSE': 156679320.38094965}\n"
          ]
        },
        {
          "output_type": "stream",
          "name": "stderr",
          "text": [
            "\n",
            "/usr/local/lib/python3.10/dist-packages/statsmodels/tsa/base/tsa_model.py:473: ValueWarning: No frequency information was provided, so inferred frequency D will be used.\n",
            "  self._init_dates(dates, freq)\n",
            "/usr/local/lib/python3.10/dist-packages/statsmodels/tsa/deterministic.py:308: UserWarning: Only PeriodIndexes, DatetimeIndexes with a frequency set, RangesIndexes, and Index with a unit increment support extending. The index is set will contain the position relative to the data length.\n",
            "  fcast_index = self._extend_index(index, steps, forecast_index)\n"
          ]
        }
      ]
    },
    {
      "cell_type": "code",
      "source": [
        "# Import Required Libraries\n",
        "from statsmodels.tsa.arima.model import ARIMA\n",
        "\n",
        "# Train ARIMA Model\n",
        "arima_model = ARIMA(train['Close'], order=(5, 1, 0)).fit()\n",
        "arima_predictions = arima_model.forecast(steps=len(test))\n",
        "\n",
        "# Evaluate ARIMA Model\n",
        "arima_metrics = evaluate_metrics(test['Close'], arima_predictions)\n",
        "print(\"ARIMA Model Metrics:\", arima_metrics)\n"
      ],
      "metadata": {
        "colab": {
          "base_uri": "https://localhost:8080/"
        },
        "id": "57qxf8h9Ie6b",
        "outputId": "c2adeb45-ce69-4246-ae2f-616fce1754f8"
      },
      "execution_count": null,
      "outputs": [
        {
          "output_type": "stream",
          "name": "stderr",
          "text": [
            "/usr/local/lib/python3.10/dist-packages/statsmodels/tsa/base/tsa_model.py:473: ValueWarning: No frequency information was provided, so inferred frequency D will be used.\n",
            "  self._init_dates(dates, freq)\n",
            "/usr/local/lib/python3.10/dist-packages/statsmodels/tsa/base/tsa_model.py:473: ValueWarning: No frequency information was provided, so inferred frequency D will be used.\n",
            "  self._init_dates(dates, freq)\n",
            "/usr/local/lib/python3.10/dist-packages/statsmodels/tsa/base/tsa_model.py:473: ValueWarning: No frequency information was provided, so inferred frequency D will be used.\n",
            "  self._init_dates(dates, freq)\n"
          ]
        },
        {
          "output_type": "stream",
          "name": "stdout",
          "text": [
            "ARIMA Model Metrics: {'RMSE': 9632.232238298371, 'R2': -6.585562972702675, 'MAE': 9074.103087425323, 'MSE': 92779897.89251444}\n"
          ]
        }
      ]
    },
    {
      "cell_type": "code",
      "source": [
        "# Import Required Libraries\n",
        "from tensorflow.keras.models import Sequential\n",
        "from tensorflow.keras.layers import LSTM, Dense\n",
        "from sklearn.preprocessing import MinMaxScaler\n",
        "\n",
        "# Data Preprocessing\n",
        "scaler = MinMaxScaler(feature_range=(0, 1))\n",
        "scaled_train = scaler.fit_transform(train[['Close']])\n",
        "scaled_test = scaler.transform(test[['Close']])\n",
        "\n",
        "def create_sequences(data, sequence_length=60):\n",
        "    X, y = [], []\n",
        "    for i in range(sequence_length, len(data)):\n",
        "        X.append(data[i-sequence_length:i, 0])\n",
        "        y.append(data[i, 0])\n",
        "    return np.array(X), np.array(y)\n",
        "\n",
        "sequence_length = 60\n",
        "X_train, y_train = create_sequences(scaled_train, sequence_length)\n",
        "X_test, y_test = create_sequences(scaled_test, sequence_length)\n",
        "\n",
        "X_train = X_train.reshape((X_train.shape[0], X_train.shape[1], 1))\n",
        "X_test = X_test.reshape((X_test.shape[0], X_test.shape[1], 1))\n",
        "\n",
        "# Build LSTM Model\n",
        "lstm_model = Sequential()\n",
        "lstm_model.add(LSTM(50, return_sequences=True, input_shape=(X_train.shape[1], 1)))\n",
        "lstm_model.add(LSTM(50))\n",
        "lstm_model.add(Dense(1))\n",
        "lstm_model.compile(optimizer='adam', loss='mean_squared_error')\n",
        "\n",
        "# Train LSTM Model\n",
        "lstm_model.fit(X_train, y_train, epochs=10, batch_size=32, verbose=0)\n",
        "\n",
        "# Predict and Evaluate LSTM Model\n",
        "lstm_predictions = lstm_model.predict(X_test)\n",
        "lstm_predictions = scaler.inverse_transform(lstm_predictions)\n",
        "aligned_test = test['Close'][sequence_length:].reset_index(drop=True)\n",
        "lstm_metrics = evaluate_metrics(aligned_test, lstm_predictions.flatten())\n",
        "print(\"LSTM Model Metrics:\", lstm_metrics)\n"
      ],
      "metadata": {
        "colab": {
          "base_uri": "https://localhost:8080/"
        },
        "id": "vppyMMTgIiSH",
        "outputId": "1f59aa54-204c-4de2-af24-2bae07dde851"
      },
      "execution_count": null,
      "outputs": [
        {
          "output_type": "stream",
          "name": "stderr",
          "text": [
            "/usr/local/lib/python3.10/dist-packages/keras/src/layers/rnn/rnn.py:204: UserWarning: Do not pass an `input_shape`/`input_dim` argument to a layer. When using Sequential models, prefer using an `Input(shape)` object as the first layer in the model instead.\n",
            "  super().__init__(**kwargs)\n"
          ]
        },
        {
          "output_type": "stream",
          "name": "stdout",
          "text": [
            "\u001b[1m5/5\u001b[0m \u001b[32m━━━━━━━━━━━━━━━━━━━━\u001b[0m\u001b[37m\u001b[0m \u001b[1m0s\u001b[0m 21ms/step\n",
            "LSTM Model Metrics: {'RMSE': 1192.4924271355549, 'R2': 0.7353130578994751, 'MAE': 866.59482421875, 'MSE': 1422038.1887756467}\n"
          ]
        }
      ]
    }
  ]
}